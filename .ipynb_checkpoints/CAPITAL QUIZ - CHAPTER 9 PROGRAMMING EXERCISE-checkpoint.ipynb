{
 "cells": [
  {
   "cell_type": "markdown",
   "id": "2e494d44",
   "metadata": {},
   "source": [
    "# Q 2 - CAPITAL QUIZ\n",
    "Write a program that creates a dictionary containing the U.S. states as keys, and their capitals as values. (Use the Internet to get a list of the states and their capitals.) The program should then randomly quiz the user by displaying the name of a state and asking the user to enter that state’s capital. The program should keep a count of the number of correct and incorrect responses."
   ]
  },
  {
   "cell_type": "markdown",
   "id": "710792b9",
   "metadata": {},
   "source": [
    "# ALGORITHM"
   ]
  },
  {
   "cell_type": "code",
   "execution_count": 1,
   "id": "3a64a774",
   "metadata": {},
   "outputs": [],
   "source": [
    "# Import random module for shuffling the order of the questions\n",
    "# Define main function\n",
    "# Create dictionary name US STATES to map the states and capitals\n",
    "# Welcome Message\n",
    "# Initialize counter for correct and incorrect answers\n",
    "# Create a shuffled list of state names\n",
    "# Interate trhough the shuffled list of state names\n",
    "# Check if the user's answer if correct\n",
    "# Ask user if they want another question\n",
    "# Display summary of results\n",
    "# Call the main function"
   ]
  },
  {
   "cell_type": "code",
   "execution_count": null,
   "id": "43b7df68",
   "metadata": {},
   "outputs": [],
   "source": [
    "# Import random module for shuffling the order of the questions\n",
    "\n",
    "\n",
    "# Define main function\n",
    "\n",
    "\n",
    "# Create dictionary name US STATES to map the states and capitals - This will be my module \n",
    "\n",
    "# Welcome Message\n",
    "\n",
    "\n",
    "# Initialize counter for correct and incorrect answers\n",
    "\n",
    "\n",
    "# Create a shuffled list of state names\n",
    "\n",
    "\n",
    "# Interate trhough the shuffled list of state names\n",
    "\n",
    "\n",
    "# Check if the user's answer if correct\n",
    "\n",
    "\n",
    "# Ask user if they want another question\n",
    "\n",
    "\n",
    "# Display summary of results\n",
    "\n",
    "\n",
    "# Call the main function"
   ]
  }
 ],
 "metadata": {
  "kernelspec": {
   "display_name": "Python 3 (ipykernel)",
   "language": "python",
   "name": "python3"
  },
  "language_info": {
   "codemirror_mode": {
    "name": "ipython",
    "version": 3
   },
   "file_extension": ".py",
   "mimetype": "text/x-python",
   "name": "python",
   "nbconvert_exporter": "python",
   "pygments_lexer": "ipython3",
   "version": "3.11.4"
  }
 },
 "nbformat": 4,
 "nbformat_minor": 5
}
